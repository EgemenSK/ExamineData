{
  "nbformat": 4,
  "nbformat_minor": 0,
  "metadata": {
    "colab": {
      "provenance": []
    },
    "kernelspec": {
      "name": "python3",
      "display_name": "Python 3"
    },
    "language_info": {
      "name": "python"
    }
  },
  "cells": [
    {
      "cell_type": "code",
      "execution_count": null,
      "metadata": {
        "id": "t3Ag4GLxSLNu"
      },
      "outputs": [],
      "source": [
        "import pandas as pd\n",
        "import matplotlib.pyplot as plt\n",
        "import numpy as np\n",
        "import seaborn as sns\n",
        "import sklearn\n",
        "import graphviz as gv\n",
        "from sklearn import metrics\n",
        "from sklearn import tree\n",
        "from sklearn.model_selection import train_test_split\n",
        "from sklearn.ensemble import RandomForestClassifier\n",
        "from sklearn.datasets import make_classification\n",
        "from sklearn.datasets import load_iris\n",
        "from sklearn.metrics import classification_report\n",
        "from sklearn.metrics import confusion_matrix\n",
        "from sklearn.tree import export_graphviz\n"
      ]
    },
    {
      "cell_type": "markdown",
      "source": [
        "### Q1"
      ],
      "metadata": {
        "id": "zzhEgvAvpdMZ"
      }
    },
    {
      "cell_type": "code",
      "source": [
        "ir = load_iris()\n",
        "iris_df = pd.DataFrame(ir.data, columns=ir.feature_names)\n",
        "target_df = pd.DataFrame(data= ir.target, columns= ['species'])\n",
        "\n",
        "def converter(specie):\n",
        "    if specie == 0:\n",
        "        return 'setosa'\n",
        "    elif specie == 1:\n",
        "        return 'versicolor'\n",
        "    else:\n",
        "        return 'virginica'\n",
        "target_df['species'] = target_df['species'].apply(converter)\n",
        "X_train, X_test, y_train, y_test = train_test_split(iris_df, target_df, random_state = 50, test_size=0.25)\n",
        "clf=RandomForestClassifier(n_estimators=10)\n",
        "clf.fit(X_train,y_train)\n",
        "y_pred=clf.predict(X_test)"
      ],
      "metadata": {
        "colab": {
          "base_uri": "https://localhost:8080/"
        },
        "id": "wjep3tz8pfbB",
        "outputId": "72871e1e-d51c-4559-ccd3-5dacbedda7ac"
      },
      "execution_count": null,
      "outputs": [
        {
          "output_type": "stream",
          "name": "stderr",
          "text": [
            "<ipython-input-18-92417ac323ab>:15: DataConversionWarning: A column-vector y was passed when a 1d array was expected. Please change the shape of y to (n_samples,), for example using ravel().\n",
            "  clf.fit(X_train,y_train)\n"
          ]
        }
      ]
    },
    {
      "cell_type": "markdown",
      "source": [
        "### Q2"
      ],
      "metadata": {
        "id": "cblNos-A0bv_"
      }
    },
    {
      "cell_type": "code",
      "source": [
        "print(\"PREDICTION = \"+str(clf.predict([[4,4,3,3]])))\n"
      ],
      "metadata": {
        "colab": {
          "base_uri": "https://localhost:8080/"
        },
        "id": "KnZyZ7vi0d3F",
        "outputId": "e1035bb5-b16b-4eb1-a6b8-a240e93ed79e"
      },
      "execution_count": null,
      "outputs": [
        {
          "output_type": "stream",
          "name": "stdout",
          "text": [
            "PREDICTION = ['virginica']\n"
          ]
        },
        {
          "output_type": "stream",
          "name": "stderr",
          "text": [
            "/usr/local/lib/python3.8/dist-packages/sklearn/base.py:450: UserWarning: X does not have valid feature names, but RandomForestClassifier was fitted with feature names\n",
            "  warnings.warn(\n"
          ]
        }
      ]
    },
    {
      "cell_type": "code",
      "source": [
        "print(\"Confusion Matrix\")\n",
        "feature_imp=np.array(confusion_matrix(y_test,y_pred))\n",
        "feature_imp"
      ],
      "metadata": {
        "colab": {
          "base_uri": "https://localhost:8080/"
        },
        "id": "yWLVDSxw8Q6R",
        "outputId": "9f1e0d33-e30d-4de5-a25c-9d220bca828b"
      },
      "execution_count": null,
      "outputs": [
        {
          "output_type": "stream",
          "name": "stdout",
          "text": [
            "Confusion Matrix\n"
          ]
        },
        {
          "output_type": "execute_result",
          "data": {
            "text/plain": [
              "array([[11,  0,  0],\n",
              "       [ 0, 14,  1],\n",
              "       [ 0,  1, 11]])"
            ]
          },
          "metadata": {},
          "execution_count": 24
        }
      ]
    },
    {
      "cell_type": "code",
      "source": [
        "print(\"ACCURACY OF THE TEST SET=\",metrics.accuracy_score(y_test, y_pred))\n",
        "\n",
        "feature_imp = pd.Series(clf.feature_importances_, index = ir.feature_names).sort_values(ascending = False)\n",
        "feature_imp\n",
        "print(classification_report(y_test, y_pred))"
      ],
      "metadata": {
        "colab": {
          "base_uri": "https://localhost:8080/"
        },
        "id": "KHlFfFS-8aX3",
        "outputId": "ca08adfe-6453-4a33-8504-d18da5d68970"
      },
      "execution_count": null,
      "outputs": [
        {
          "output_type": "stream",
          "name": "stdout",
          "text": [
            "ACCURACY OF THE TEST SET= 0.9473684210526315\n",
            "              precision    recall  f1-score   support\n",
            "\n",
            "      setosa       1.00      1.00      1.00        11\n",
            "  versicolor       0.93      0.93      0.93        15\n",
            "   virginica       0.92      0.92      0.92        12\n",
            "\n",
            "    accuracy                           0.95        38\n",
            "   macro avg       0.95      0.95      0.95        38\n",
            "weighted avg       0.95      0.95      0.95        38\n",
            "\n"
          ]
        }
      ]
    },
    {
      "cell_type": "markdown",
      "source": [
        "### Q3"
      ],
      "metadata": {
        "id": "v45eYzb39rCk"
      }
    },
    {
      "cell_type": "code",
      "source": [
        "dot_data = export_graphviz(clf[2],\n",
        "                           feature_names=ir.feature_names,\n",
        "                           class_names=ir.target_names,\n",
        "                           filled=True, impurity=True,\n",
        "                           rounded=True)\n",
        "\n",
        "graph = gv.Source(dot_data, format='png')\n",
        "graph"
      ],
      "metadata": {
        "colab": {
          "base_uri": "https://localhost:8080/",
          "height": 1000
        },
        "id": "TpuCuI_w9sXk",
        "outputId": "b33200e5-086f-4a2b-8a55-9e55c1d44a2d"
      },
      "execution_count": null,
      "outputs": [
        {
          "output_type": "execute_result",
          "data": {
            "text/plain": [
              "<graphviz.files.Source at 0x7ff57052d7f0>"
            ],
            "image/svg+xml": "<?xml version=\"1.0\" encoding=\"UTF-8\" standalone=\"no\"?>\n<!DOCTYPE svg PUBLIC \"-//W3C//DTD SVG 1.1//EN\"\n \"http://www.w3.org/Graphics/SVG/1.1/DTD/svg11.dtd\">\n<!-- Generated by graphviz version 2.40.1 (20161225.0304)\n -->\n<!-- Title: Tree Pages: 1 -->\n<svg width=\"885pt\" height=\"790pt\"\n viewBox=\"0.00 0.00 885.00 790.00\" xmlns=\"http://www.w3.org/2000/svg\" xmlns:xlink=\"http://www.w3.org/1999/xlink\">\n<g id=\"graph0\" class=\"graph\" transform=\"scale(1 1) rotate(0) translate(4 786)\">\n<title>Tree</title>\n<polygon fill=\"#ffffff\" stroke=\"transparent\" points=\"-4,4 -4,-786 881,-786 881,4 -4,4\"/>\n<!-- 0 -->\n<g id=\"node1\" class=\"node\">\n<title>0</title>\n<path fill=\"#faf7fe\" stroke=\"#000000\" d=\"M371.5,-782C371.5,-782 215.5,-782 215.5,-782 209.5,-782 203.5,-776 203.5,-770 203.5,-770 203.5,-711 203.5,-711 203.5,-705 209.5,-699 215.5,-699 215.5,-699 371.5,-699 371.5,-699 377.5,-699 383.5,-705 383.5,-711 383.5,-711 383.5,-770 383.5,-770 383.5,-776 377.5,-782 371.5,-782\"/>\n<text text-anchor=\"middle\" x=\"293.5\" y=\"-766.8\" font-family=\"Helvetica,sans-Serif\" font-size=\"14.00\" fill=\"#000000\">sepal length (cm) &lt;= 5.45</text>\n<text text-anchor=\"middle\" x=\"293.5\" y=\"-751.8\" font-family=\"Helvetica,sans-Serif\" font-size=\"14.00\" fill=\"#000000\">gini = 0.664</text>\n<text text-anchor=\"middle\" x=\"293.5\" y=\"-736.8\" font-family=\"Helvetica,sans-Serif\" font-size=\"14.00\" fill=\"#000000\">samples = 78</text>\n<text text-anchor=\"middle\" x=\"293.5\" y=\"-721.8\" font-family=\"Helvetica,sans-Serif\" font-size=\"14.00\" fill=\"#000000\">value = [38, 33, 41]</text>\n<text text-anchor=\"middle\" x=\"293.5\" y=\"-706.8\" font-family=\"Helvetica,sans-Serif\" font-size=\"14.00\" fill=\"#000000\">class = virginica</text>\n</g>\n<!-- 1 -->\n<g id=\"node2\" class=\"node\">\n<title>1</title>\n<path fill=\"#e9965a\" stroke=\"#000000\" d=\"M270.5,-663C270.5,-663 126.5,-663 126.5,-663 120.5,-663 114.5,-657 114.5,-651 114.5,-651 114.5,-592 114.5,-592 114.5,-586 120.5,-580 126.5,-580 126.5,-580 270.5,-580 270.5,-580 276.5,-580 282.5,-586 282.5,-592 282.5,-592 282.5,-651 282.5,-651 282.5,-657 276.5,-663 270.5,-663\"/>\n<text text-anchor=\"middle\" x=\"198.5\" y=\"-647.8\" font-family=\"Helvetica,sans-Serif\" font-size=\"14.00\" fill=\"#000000\">petal length (cm) &lt;= 2.6</text>\n<text text-anchor=\"middle\" x=\"198.5\" y=\"-632.8\" font-family=\"Helvetica,sans-Serif\" font-size=\"14.00\" fill=\"#000000\">gini = 0.245</text>\n<text text-anchor=\"middle\" x=\"198.5\" y=\"-617.8\" font-family=\"Helvetica,sans-Serif\" font-size=\"14.00\" fill=\"#000000\">samples = 29</text>\n<text text-anchor=\"middle\" x=\"198.5\" y=\"-602.8\" font-family=\"Helvetica,sans-Serif\" font-size=\"14.00\" fill=\"#000000\">value = [36, 6, 0]</text>\n<text text-anchor=\"middle\" x=\"198.5\" y=\"-587.8\" font-family=\"Helvetica,sans-Serif\" font-size=\"14.00\" fill=\"#000000\">class = setosa</text>\n</g>\n<!-- 0&#45;&gt;1 -->\n<g id=\"edge1\" class=\"edge\">\n<title>0&#45;&gt;1</title>\n<path fill=\"none\" stroke=\"#000000\" d=\"M260.2736,-698.8796C253.1556,-689.9633 245.5661,-680.4565 238.2308,-671.268\"/>\n<polygon fill=\"#000000\" stroke=\"#000000\" points=\"240.8425,-668.9295 231.8682,-663.2981 235.3719,-673.2968 240.8425,-668.9295\"/>\n<text text-anchor=\"middle\" x=\"229.0819\" y=\"-684.4423\" font-family=\"Helvetica,sans-Serif\" font-size=\"14.00\" fill=\"#000000\">True</text>\n</g>\n<!-- 4 -->\n<g id=\"node5\" class=\"node\">\n<title>4</title>\n<path fill=\"#d6bff7\" stroke=\"#000000\" d=\"M464.5,-663C464.5,-663 312.5,-663 312.5,-663 306.5,-663 300.5,-657 300.5,-651 300.5,-651 300.5,-592 300.5,-592 300.5,-586 306.5,-580 312.5,-580 312.5,-580 464.5,-580 464.5,-580 470.5,-580 476.5,-586 476.5,-592 476.5,-592 476.5,-651 476.5,-651 476.5,-657 470.5,-663 464.5,-663\"/>\n<text text-anchor=\"middle\" x=\"388.5\" y=\"-647.8\" font-family=\"Helvetica,sans-Serif\" font-size=\"14.00\" fill=\"#000000\">petal length (cm) &lt;= 4.75</text>\n<text text-anchor=\"middle\" x=\"388.5\" y=\"-632.8\" font-family=\"Helvetica,sans-Serif\" font-size=\"14.00\" fill=\"#000000\">gini = 0.507</text>\n<text text-anchor=\"middle\" x=\"388.5\" y=\"-617.8\" font-family=\"Helvetica,sans-Serif\" font-size=\"14.00\" fill=\"#000000\">samples = 49</text>\n<text text-anchor=\"middle\" x=\"388.5\" y=\"-602.8\" font-family=\"Helvetica,sans-Serif\" font-size=\"14.00\" fill=\"#000000\">value = [2, 27, 41]</text>\n<text text-anchor=\"middle\" x=\"388.5\" y=\"-587.8\" font-family=\"Helvetica,sans-Serif\" font-size=\"14.00\" fill=\"#000000\">class = virginica</text>\n</g>\n<!-- 0&#45;&gt;4 -->\n<g id=\"edge4\" class=\"edge\">\n<title>0&#45;&gt;4</title>\n<path fill=\"none\" stroke=\"#000000\" d=\"M326.7264,-698.8796C333.8444,-689.9633 341.4339,-680.4565 348.7692,-671.268\"/>\n<polygon fill=\"#000000\" stroke=\"#000000\" points=\"351.6281,-673.2968 355.1318,-663.2981 346.1575,-668.9295 351.6281,-673.2968\"/>\n<text text-anchor=\"middle\" x=\"357.9181\" y=\"-684.4423\" font-family=\"Helvetica,sans-Serif\" font-size=\"14.00\" fill=\"#000000\">False</text>\n</g>\n<!-- 2 -->\n<g id=\"node3\" class=\"node\">\n<title>2</title>\n<path fill=\"#e58139\" stroke=\"#000000\" d=\"M111,-536.5C111,-536.5 12,-536.5 12,-536.5 6,-536.5 0,-530.5 0,-524.5 0,-524.5 0,-480.5 0,-480.5 0,-474.5 6,-468.5 12,-468.5 12,-468.5 111,-468.5 111,-468.5 117,-468.5 123,-474.5 123,-480.5 123,-480.5 123,-524.5 123,-524.5 123,-530.5 117,-536.5 111,-536.5\"/>\n<text text-anchor=\"middle\" x=\"61.5\" y=\"-521.3\" font-family=\"Helvetica,sans-Serif\" font-size=\"14.00\" fill=\"#000000\">gini = 0.0</text>\n<text text-anchor=\"middle\" x=\"61.5\" y=\"-506.3\" font-family=\"Helvetica,sans-Serif\" font-size=\"14.00\" fill=\"#000000\">samples = 25</text>\n<text text-anchor=\"middle\" x=\"61.5\" y=\"-491.3\" font-family=\"Helvetica,sans-Serif\" font-size=\"14.00\" fill=\"#000000\">value = [36, 0, 0]</text>\n<text text-anchor=\"middle\" x=\"61.5\" y=\"-476.3\" font-family=\"Helvetica,sans-Serif\" font-size=\"14.00\" fill=\"#000000\">class = setosa</text>\n</g>\n<!-- 1&#45;&gt;2 -->\n<g id=\"edge2\" class=\"edge\">\n<title>1&#45;&gt;2</title>\n<path fill=\"none\" stroke=\"#000000\" d=\"M150.584,-579.8796C137.0385,-568.1138 122.3092,-555.3197 108.8002,-543.5855\"/>\n<polygon fill=\"#000000\" stroke=\"#000000\" points=\"110.8503,-540.7303 101.0054,-536.8149 106.2599,-546.015 110.8503,-540.7303\"/>\n</g>\n<!-- 3 -->\n<g id=\"node4\" class=\"node\">\n<title>3</title>\n<path fill=\"#39e581\" stroke=\"#000000\" d=\"M257.5,-536.5C257.5,-536.5 153.5,-536.5 153.5,-536.5 147.5,-536.5 141.5,-530.5 141.5,-524.5 141.5,-524.5 141.5,-480.5 141.5,-480.5 141.5,-474.5 147.5,-468.5 153.5,-468.5 153.5,-468.5 257.5,-468.5 257.5,-468.5 263.5,-468.5 269.5,-474.5 269.5,-480.5 269.5,-480.5 269.5,-524.5 269.5,-524.5 269.5,-530.5 263.5,-536.5 257.5,-536.5\"/>\n<text text-anchor=\"middle\" x=\"205.5\" y=\"-521.3\" font-family=\"Helvetica,sans-Serif\" font-size=\"14.00\" fill=\"#000000\">gini = 0.0</text>\n<text text-anchor=\"middle\" x=\"205.5\" y=\"-506.3\" font-family=\"Helvetica,sans-Serif\" font-size=\"14.00\" fill=\"#000000\">samples = 4</text>\n<text text-anchor=\"middle\" x=\"205.5\" y=\"-491.3\" font-family=\"Helvetica,sans-Serif\" font-size=\"14.00\" fill=\"#000000\">value = [0, 6, 0]</text>\n<text text-anchor=\"middle\" x=\"205.5\" y=\"-476.3\" font-family=\"Helvetica,sans-Serif\" font-size=\"14.00\" fill=\"#000000\">class = versicolor</text>\n</g>\n<!-- 1&#45;&gt;3 -->\n<g id=\"edge3\" class=\"edge\">\n<title>1&#45;&gt;3</title>\n<path fill=\"none\" stroke=\"#000000\" d=\"M200.9483,-579.8796C201.5757,-569.2134 202.2528,-557.7021 202.8881,-546.9015\"/>\n<polygon fill=\"#000000\" stroke=\"#000000\" points=\"206.3881,-547.0032 203.4815,-536.8149 199.4002,-546.5921 206.3881,-547.0032\"/>\n</g>\n<!-- 5 -->\n<g id=\"node6\" class=\"node\">\n<title>5</title>\n<path fill=\"#49e78b\" stroke=\"#000000\" d=\"M453.5,-544C453.5,-544 311.5,-544 311.5,-544 305.5,-544 299.5,-538 299.5,-532 299.5,-532 299.5,-473 299.5,-473 299.5,-467 305.5,-461 311.5,-461 311.5,-461 453.5,-461 453.5,-461 459.5,-461 465.5,-467 465.5,-473 465.5,-473 465.5,-532 465.5,-532 465.5,-538 459.5,-544 453.5,-544\"/>\n<text text-anchor=\"middle\" x=\"382.5\" y=\"-528.8\" font-family=\"Helvetica,sans-Serif\" font-size=\"14.00\" fill=\"#000000\">sepal width (cm) &lt;= 3.9</text>\n<text text-anchor=\"middle\" x=\"382.5\" y=\"-513.8\" font-family=\"Helvetica,sans-Serif\" font-size=\"14.00\" fill=\"#000000\">gini = 0.137</text>\n<text text-anchor=\"middle\" x=\"382.5\" y=\"-498.8\" font-family=\"Helvetica,sans-Serif\" font-size=\"14.00\" fill=\"#000000\">samples = 19</text>\n<text text-anchor=\"middle\" x=\"382.5\" y=\"-483.8\" font-family=\"Helvetica,sans-Serif\" font-size=\"14.00\" fill=\"#000000\">value = [2, 25, 0]</text>\n<text text-anchor=\"middle\" x=\"382.5\" y=\"-468.8\" font-family=\"Helvetica,sans-Serif\" font-size=\"14.00\" fill=\"#000000\">class = versicolor</text>\n</g>\n<!-- 4&#45;&gt;5 -->\n<g id=\"edge5\" class=\"edge\">\n<title>4&#45;&gt;5</title>\n<path fill=\"none\" stroke=\"#000000\" d=\"M386.4015,-579.8796C385.9883,-571.6838 385.5499,-562.9891 385.1219,-554.5013\"/>\n<polygon fill=\"#000000\" stroke=\"#000000\" points=\"388.6067,-554.1091 384.6075,-544.2981 381.6156,-554.4617 388.6067,-554.1091\"/>\n</g>\n<!-- 8 -->\n<g id=\"node9\" class=\"node\">\n<title>8</title>\n<path fill=\"#8743e6\" stroke=\"#000000\" d=\"M645.5,-544C645.5,-544 495.5,-544 495.5,-544 489.5,-544 483.5,-538 483.5,-532 483.5,-532 483.5,-473 483.5,-473 483.5,-467 489.5,-461 495.5,-461 495.5,-461 645.5,-461 645.5,-461 651.5,-461 657.5,-467 657.5,-473 657.5,-473 657.5,-532 657.5,-532 657.5,-538 651.5,-544 645.5,-544\"/>\n<text text-anchor=\"middle\" x=\"570.5\" y=\"-528.8\" font-family=\"Helvetica,sans-Serif\" font-size=\"14.00\" fill=\"#000000\">sepal width (cm) &lt;= 2.85</text>\n<text text-anchor=\"middle\" x=\"570.5\" y=\"-513.8\" font-family=\"Helvetica,sans-Serif\" font-size=\"14.00\" fill=\"#000000\">gini = 0.089</text>\n<text text-anchor=\"middle\" x=\"570.5\" y=\"-498.8\" font-family=\"Helvetica,sans-Serif\" font-size=\"14.00\" fill=\"#000000\">samples = 30</text>\n<text text-anchor=\"middle\" x=\"570.5\" y=\"-483.8\" font-family=\"Helvetica,sans-Serif\" font-size=\"14.00\" fill=\"#000000\">value = [0, 2, 41]</text>\n<text text-anchor=\"middle\" x=\"570.5\" y=\"-468.8\" font-family=\"Helvetica,sans-Serif\" font-size=\"14.00\" fill=\"#000000\">class = virginica</text>\n</g>\n<!-- 4&#45;&gt;8 -->\n<g id=\"edge8\" class=\"edge\">\n<title>4&#45;&gt;8</title>\n<path fill=\"none\" stroke=\"#000000\" d=\"M452.1548,-579.8796C467.1176,-570.0962 483.1677,-559.6019 498.4691,-549.5971\"/>\n<polygon fill=\"#000000\" stroke=\"#000000\" points=\"500.4269,-552.4989 506.8812,-544.0969 496.5961,-546.6401 500.4269,-552.4989\"/>\n</g>\n<!-- 6 -->\n<g id=\"node7\" class=\"node\">\n<title>6</title>\n<path fill=\"#39e581\" stroke=\"#000000\" d=\"M300.5,-417.5C300.5,-417.5 196.5,-417.5 196.5,-417.5 190.5,-417.5 184.5,-411.5 184.5,-405.5 184.5,-405.5 184.5,-361.5 184.5,-361.5 184.5,-355.5 190.5,-349.5 196.5,-349.5 196.5,-349.5 300.5,-349.5 300.5,-349.5 306.5,-349.5 312.5,-355.5 312.5,-361.5 312.5,-361.5 312.5,-405.5 312.5,-405.5 312.5,-411.5 306.5,-417.5 300.5,-417.5\"/>\n<text text-anchor=\"middle\" x=\"248.5\" y=\"-402.3\" font-family=\"Helvetica,sans-Serif\" font-size=\"14.00\" fill=\"#000000\">gini = 0.0</text>\n<text text-anchor=\"middle\" x=\"248.5\" y=\"-387.3\" font-family=\"Helvetica,sans-Serif\" font-size=\"14.00\" fill=\"#000000\">samples = 18</text>\n<text text-anchor=\"middle\" x=\"248.5\" y=\"-372.3\" font-family=\"Helvetica,sans-Serif\" font-size=\"14.00\" fill=\"#000000\">value = [0, 25, 0]</text>\n<text text-anchor=\"middle\" x=\"248.5\" y=\"-357.3\" font-family=\"Helvetica,sans-Serif\" font-size=\"14.00\" fill=\"#000000\">class = versicolor</text>\n</g>\n<!-- 5&#45;&gt;6 -->\n<g id=\"edge6\" class=\"edge\">\n<title>5&#45;&gt;6</title>\n<path fill=\"none\" stroke=\"#000000\" d=\"M335.6333,-460.8796C322.3844,-449.1138 307.9776,-436.3197 294.7644,-424.5855\"/>\n<polygon fill=\"#000000\" stroke=\"#000000\" points=\"296.9416,-421.8381 287.1403,-417.8149 292.2935,-427.0722 296.9416,-421.8381\"/>\n</g>\n<!-- 7 -->\n<g id=\"node8\" class=\"node\">\n<title>7</title>\n<path fill=\"#e58139\" stroke=\"#000000\" d=\"M434,-417.5C434,-417.5 343,-417.5 343,-417.5 337,-417.5 331,-411.5 331,-405.5 331,-405.5 331,-361.5 331,-361.5 331,-355.5 337,-349.5 343,-349.5 343,-349.5 434,-349.5 434,-349.5 440,-349.5 446,-355.5 446,-361.5 446,-361.5 446,-405.5 446,-405.5 446,-411.5 440,-417.5 434,-417.5\"/>\n<text text-anchor=\"middle\" x=\"388.5\" y=\"-402.3\" font-family=\"Helvetica,sans-Serif\" font-size=\"14.00\" fill=\"#000000\">gini = 0.0</text>\n<text text-anchor=\"middle\" x=\"388.5\" y=\"-387.3\" font-family=\"Helvetica,sans-Serif\" font-size=\"14.00\" fill=\"#000000\">samples = 1</text>\n<text text-anchor=\"middle\" x=\"388.5\" y=\"-372.3\" font-family=\"Helvetica,sans-Serif\" font-size=\"14.00\" fill=\"#000000\">value = [2, 0, 0]</text>\n<text text-anchor=\"middle\" x=\"388.5\" y=\"-357.3\" font-family=\"Helvetica,sans-Serif\" font-size=\"14.00\" fill=\"#000000\">class = setosa</text>\n</g>\n<!-- 5&#45;&gt;7 -->\n<g id=\"edge7\" class=\"edge\">\n<title>5&#45;&gt;7</title>\n<path fill=\"none\" stroke=\"#000000\" d=\"M384.5985,-460.8796C385.1363,-450.2134 385.7167,-438.7021 386.2613,-427.9015\"/>\n<polygon fill=\"#000000\" stroke=\"#000000\" points=\"389.7617,-427.9785 386.7698,-417.8149 382.7706,-427.626 389.7617,-427.9785\"/>\n</g>\n<!-- 9 -->\n<g id=\"node10\" class=\"node\">\n<title>9</title>\n<path fill=\"#9050e8\" stroke=\"#000000\" d=\"M640.5,-425C640.5,-425 488.5,-425 488.5,-425 482.5,-425 476.5,-419 476.5,-413 476.5,-413 476.5,-354 476.5,-354 476.5,-348 482.5,-342 488.5,-342 488.5,-342 640.5,-342 640.5,-342 646.5,-342 652.5,-348 652.5,-354 652.5,-354 652.5,-413 652.5,-413 652.5,-419 646.5,-425 640.5,-425\"/>\n<text text-anchor=\"middle\" x=\"564.5\" y=\"-409.8\" font-family=\"Helvetica,sans-Serif\" font-size=\"14.00\" fill=\"#000000\">petal length (cm) &lt;= 4.85</text>\n<text text-anchor=\"middle\" x=\"564.5\" y=\"-394.8\" font-family=\"Helvetica,sans-Serif\" font-size=\"14.00\" fill=\"#000000\">gini = 0.188</text>\n<text text-anchor=\"middle\" x=\"564.5\" y=\"-379.8\" font-family=\"Helvetica,sans-Serif\" font-size=\"14.00\" fill=\"#000000\">samples = 13</text>\n<text text-anchor=\"middle\" x=\"564.5\" y=\"-364.8\" font-family=\"Helvetica,sans-Serif\" font-size=\"14.00\" fill=\"#000000\">value = [0, 2, 17]</text>\n<text text-anchor=\"middle\" x=\"564.5\" y=\"-349.8\" font-family=\"Helvetica,sans-Serif\" font-size=\"14.00\" fill=\"#000000\">class = virginica</text>\n</g>\n<!-- 8&#45;&gt;9 -->\n<g id=\"edge9\" class=\"edge\">\n<title>8&#45;&gt;9</title>\n<path fill=\"none\" stroke=\"#000000\" d=\"M568.4015,-460.8796C567.9883,-452.6838 567.5499,-443.9891 567.1219,-435.5013\"/>\n<polygon fill=\"#000000\" stroke=\"#000000\" points=\"570.6067,-435.1091 566.6075,-425.2981 563.6156,-435.4617 570.6067,-435.1091\"/>\n</g>\n<!-- 18 -->\n<g id=\"node19\" class=\"node\">\n<title>18</title>\n<path fill=\"#8139e5\" stroke=\"#000000\" d=\"M782,-417.5C782,-417.5 683,-417.5 683,-417.5 677,-417.5 671,-411.5 671,-405.5 671,-405.5 671,-361.5 671,-361.5 671,-355.5 677,-349.5 683,-349.5 683,-349.5 782,-349.5 782,-349.5 788,-349.5 794,-355.5 794,-361.5 794,-361.5 794,-405.5 794,-405.5 794,-411.5 788,-417.5 782,-417.5\"/>\n<text text-anchor=\"middle\" x=\"732.5\" y=\"-402.3\" font-family=\"Helvetica,sans-Serif\" font-size=\"14.00\" fill=\"#000000\">gini = 0.0</text>\n<text text-anchor=\"middle\" x=\"732.5\" y=\"-387.3\" font-family=\"Helvetica,sans-Serif\" font-size=\"14.00\" fill=\"#000000\">samples = 17</text>\n<text text-anchor=\"middle\" x=\"732.5\" y=\"-372.3\" font-family=\"Helvetica,sans-Serif\" font-size=\"14.00\" fill=\"#000000\">value = [0, 0, 24]</text>\n<text text-anchor=\"middle\" x=\"732.5\" y=\"-357.3\" font-family=\"Helvetica,sans-Serif\" font-size=\"14.00\" fill=\"#000000\">class = virginica</text>\n</g>\n<!-- 8&#45;&gt;18 -->\n<g id=\"edge18\" class=\"edge\">\n<title>8&#45;&gt;18</title>\n<path fill=\"none\" stroke=\"#000000\" d=\"M627.1597,-460.8796C643.5541,-448.8368 661.4151,-435.7167 677.6942,-423.7586\"/>\n<polygon fill=\"#000000\" stroke=\"#000000\" points=\"680.0595,-426.3639 686.0468,-417.623 675.9154,-420.7224 680.0595,-426.3639\"/>\n</g>\n<!-- 10 -->\n<g id=\"node11\" class=\"node\">\n<title>10</title>\n<path fill=\"#ffffff\" stroke=\"#000000\" d=\"M541.5,-306C541.5,-306 393.5,-306 393.5,-306 387.5,-306 381.5,-300 381.5,-294 381.5,-294 381.5,-235 381.5,-235 381.5,-229 387.5,-223 393.5,-223 393.5,-223 541.5,-223 541.5,-223 547.5,-223 553.5,-229 553.5,-235 553.5,-235 553.5,-294 553.5,-294 553.5,-300 547.5,-306 541.5,-306\"/>\n<text text-anchor=\"middle\" x=\"467.5\" y=\"-290.8\" font-family=\"Helvetica,sans-Serif\" font-size=\"14.00\" fill=\"#000000\">sepal length (cm) &lt;= 6.5</text>\n<text text-anchor=\"middle\" x=\"467.5\" y=\"-275.8\" font-family=\"Helvetica,sans-Serif\" font-size=\"14.00\" fill=\"#000000\">gini = 0.5</text>\n<text text-anchor=\"middle\" x=\"467.5\" y=\"-260.8\" font-family=\"Helvetica,sans-Serif\" font-size=\"14.00\" fill=\"#000000\">samples = 2</text>\n<text text-anchor=\"middle\" x=\"467.5\" y=\"-245.8\" font-family=\"Helvetica,sans-Serif\" font-size=\"14.00\" fill=\"#000000\">value = [0, 1, 1]</text>\n<text text-anchor=\"middle\" x=\"467.5\" y=\"-230.8\" font-family=\"Helvetica,sans-Serif\" font-size=\"14.00\" fill=\"#000000\">class = versicolor</text>\n</g>\n<!-- 9&#45;&gt;10 -->\n<g id=\"edge10\" class=\"edge\">\n<title>9&#45;&gt;10</title>\n<path fill=\"none\" stroke=\"#000000\" d=\"M530.5741,-341.8796C523.3062,-332.9633 515.557,-323.4565 508.0672,-314.268\"/>\n<polygon fill=\"#000000\" stroke=\"#000000\" points=\"510.6018,-311.8379 501.5707,-306.2981 505.176,-316.2606 510.6018,-311.8379\"/>\n</g>\n<!-- 13 -->\n<g id=\"node14\" class=\"node\">\n<title>13</title>\n<path fill=\"#8945e7\" stroke=\"#000000\" d=\"M739.5,-306C739.5,-306 583.5,-306 583.5,-306 577.5,-306 571.5,-300 571.5,-294 571.5,-294 571.5,-235 571.5,-235 571.5,-229 577.5,-223 583.5,-223 583.5,-223 739.5,-223 739.5,-223 745.5,-223 751.5,-229 751.5,-235 751.5,-235 751.5,-294 751.5,-294 751.5,-300 745.5,-306 739.5,-306\"/>\n<text text-anchor=\"middle\" x=\"661.5\" y=\"-290.8\" font-family=\"Helvetica,sans-Serif\" font-size=\"14.00\" fill=\"#000000\">sepal length (cm) &lt;= 6.05</text>\n<text text-anchor=\"middle\" x=\"661.5\" y=\"-275.8\" font-family=\"Helvetica,sans-Serif\" font-size=\"14.00\" fill=\"#000000\">gini = 0.111</text>\n<text text-anchor=\"middle\" x=\"661.5\" y=\"-260.8\" font-family=\"Helvetica,sans-Serif\" font-size=\"14.00\" fill=\"#000000\">samples = 11</text>\n<text text-anchor=\"middle\" x=\"661.5\" y=\"-245.8\" font-family=\"Helvetica,sans-Serif\" font-size=\"14.00\" fill=\"#000000\">value = [0, 1, 16]</text>\n<text text-anchor=\"middle\" x=\"661.5\" y=\"-230.8\" font-family=\"Helvetica,sans-Serif\" font-size=\"14.00\" fill=\"#000000\">class = virginica</text>\n</g>\n<!-- 9&#45;&gt;13 -->\n<g id=\"edge13\" class=\"edge\">\n<title>9&#45;&gt;13</title>\n<path fill=\"none\" stroke=\"#000000\" d=\"M598.4259,-341.8796C605.6938,-332.9633 613.443,-323.4565 620.9328,-314.268\"/>\n<polygon fill=\"#000000\" stroke=\"#000000\" points=\"623.824,-316.2606 627.4293,-306.2981 618.3982,-311.8379 623.824,-316.2606\"/>\n</g>\n<!-- 11 -->\n<g id=\"node12\" class=\"node\">\n<title>11</title>\n<path fill=\"#8139e5\" stroke=\"#000000\" d=\"M380,-179.5C380,-179.5 285,-179.5 285,-179.5 279,-179.5 273,-173.5 273,-167.5 273,-167.5 273,-123.5 273,-123.5 273,-117.5 279,-111.5 285,-111.5 285,-111.5 380,-111.5 380,-111.5 386,-111.5 392,-117.5 392,-123.5 392,-123.5 392,-167.5 392,-167.5 392,-173.5 386,-179.5 380,-179.5\"/>\n<text text-anchor=\"middle\" x=\"332.5\" y=\"-164.3\" font-family=\"Helvetica,sans-Serif\" font-size=\"14.00\" fill=\"#000000\">gini = 0.0</text>\n<text text-anchor=\"middle\" x=\"332.5\" y=\"-149.3\" font-family=\"Helvetica,sans-Serif\" font-size=\"14.00\" fill=\"#000000\">samples = 1</text>\n<text text-anchor=\"middle\" x=\"332.5\" y=\"-134.3\" font-family=\"Helvetica,sans-Serif\" font-size=\"14.00\" fill=\"#000000\">value = [0, 0, 1]</text>\n<text text-anchor=\"middle\" x=\"332.5\" y=\"-119.3\" font-family=\"Helvetica,sans-Serif\" font-size=\"14.00\" fill=\"#000000\">class = virginica</text>\n</g>\n<!-- 10&#45;&gt;11 -->\n<g id=\"edge11\" class=\"edge\">\n<title>10&#45;&gt;11</title>\n<path fill=\"none\" stroke=\"#000000\" d=\"M420.2836,-222.8796C406.9358,-211.1138 392.4215,-198.3197 379.1096,-186.5855\"/>\n<polygon fill=\"#000000\" stroke=\"#000000\" points=\"381.2448,-183.8019 371.4287,-179.8149 376.616,-189.0531 381.2448,-183.8019\"/>\n</g>\n<!-- 12 -->\n<g id=\"node13\" class=\"node\">\n<title>12</title>\n<path fill=\"#39e581\" stroke=\"#000000\" d=\"M526.5,-179.5C526.5,-179.5 422.5,-179.5 422.5,-179.5 416.5,-179.5 410.5,-173.5 410.5,-167.5 410.5,-167.5 410.5,-123.5 410.5,-123.5 410.5,-117.5 416.5,-111.5 422.5,-111.5 422.5,-111.5 526.5,-111.5 526.5,-111.5 532.5,-111.5 538.5,-117.5 538.5,-123.5 538.5,-123.5 538.5,-167.5 538.5,-167.5 538.5,-173.5 532.5,-179.5 526.5,-179.5\"/>\n<text text-anchor=\"middle\" x=\"474.5\" y=\"-164.3\" font-family=\"Helvetica,sans-Serif\" font-size=\"14.00\" fill=\"#000000\">gini = 0.0</text>\n<text text-anchor=\"middle\" x=\"474.5\" y=\"-149.3\" font-family=\"Helvetica,sans-Serif\" font-size=\"14.00\" fill=\"#000000\">samples = 1</text>\n<text text-anchor=\"middle\" x=\"474.5\" y=\"-134.3\" font-family=\"Helvetica,sans-Serif\" font-size=\"14.00\" fill=\"#000000\">value = [0, 1, 0]</text>\n<text text-anchor=\"middle\" x=\"474.5\" y=\"-119.3\" font-family=\"Helvetica,sans-Serif\" font-size=\"14.00\" fill=\"#000000\">class = versicolor</text>\n</g>\n<!-- 10&#45;&gt;12 -->\n<g id=\"edge12\" class=\"edge\">\n<title>10&#45;&gt;12</title>\n<path fill=\"none\" stroke=\"#000000\" d=\"M469.9483,-222.8796C470.5757,-212.2134 471.2528,-200.7021 471.8881,-189.9015\"/>\n<polygon fill=\"#000000\" stroke=\"#000000\" points=\"475.3881,-190.0032 472.4815,-179.8149 468.4002,-189.5921 475.3881,-190.0032\"/>\n</g>\n<!-- 14 -->\n<g id=\"node15\" class=\"node\">\n<title>14</title>\n<path fill=\"#9355e9\" stroke=\"#000000\" d=\"M727.5,-187C727.5,-187 581.5,-187 581.5,-187 575.5,-187 569.5,-181 569.5,-175 569.5,-175 569.5,-116 569.5,-116 569.5,-110 575.5,-104 581.5,-104 581.5,-104 727.5,-104 727.5,-104 733.5,-104 739.5,-110 739.5,-116 739.5,-116 739.5,-175 739.5,-175 739.5,-181 733.5,-187 727.5,-187\"/>\n<text text-anchor=\"middle\" x=\"654.5\" y=\"-171.8\" font-family=\"Helvetica,sans-Serif\" font-size=\"14.00\" fill=\"#000000\">petal width (cm) &lt;= 1.75</text>\n<text text-anchor=\"middle\" x=\"654.5\" y=\"-156.8\" font-family=\"Helvetica,sans-Serif\" font-size=\"14.00\" fill=\"#000000\">gini = 0.219</text>\n<text text-anchor=\"middle\" x=\"654.5\" y=\"-141.8\" font-family=\"Helvetica,sans-Serif\" font-size=\"14.00\" fill=\"#000000\">samples = 5</text>\n<text text-anchor=\"middle\" x=\"654.5\" y=\"-126.8\" font-family=\"Helvetica,sans-Serif\" font-size=\"14.00\" fill=\"#000000\">value = [0, 1, 7]</text>\n<text text-anchor=\"middle\" x=\"654.5\" y=\"-111.8\" font-family=\"Helvetica,sans-Serif\" font-size=\"14.00\" fill=\"#000000\">class = virginica</text>\n</g>\n<!-- 13&#45;&gt;14 -->\n<g id=\"edge14\" class=\"edge\">\n<title>13&#45;&gt;14</title>\n<path fill=\"none\" stroke=\"#000000\" d=\"M659.0517,-222.8796C658.5696,-214.6838 658.0582,-205.9891 657.5589,-197.5013\"/>\n<polygon fill=\"#000000\" stroke=\"#000000\" points=\"661.04,-197.0753 656.9587,-187.2981 654.0521,-197.4864 661.04,-197.0753\"/>\n</g>\n<!-- 17 -->\n<g id=\"node18\" class=\"node\">\n<title>17</title>\n<path fill=\"#8139e5\" stroke=\"#000000\" d=\"M865,-179.5C865,-179.5 770,-179.5 770,-179.5 764,-179.5 758,-173.5 758,-167.5 758,-167.5 758,-123.5 758,-123.5 758,-117.5 764,-111.5 770,-111.5 770,-111.5 865,-111.5 865,-111.5 871,-111.5 877,-117.5 877,-123.5 877,-123.5 877,-167.5 877,-167.5 877,-173.5 871,-179.5 865,-179.5\"/>\n<text text-anchor=\"middle\" x=\"817.5\" y=\"-164.3\" font-family=\"Helvetica,sans-Serif\" font-size=\"14.00\" fill=\"#000000\">gini = 0.0</text>\n<text text-anchor=\"middle\" x=\"817.5\" y=\"-149.3\" font-family=\"Helvetica,sans-Serif\" font-size=\"14.00\" fill=\"#000000\">samples = 6</text>\n<text text-anchor=\"middle\" x=\"817.5\" y=\"-134.3\" font-family=\"Helvetica,sans-Serif\" font-size=\"14.00\" fill=\"#000000\">value = [0, 0, 9]</text>\n<text text-anchor=\"middle\" x=\"817.5\" y=\"-119.3\" font-family=\"Helvetica,sans-Serif\" font-size=\"14.00\" fill=\"#000000\">class = virginica</text>\n</g>\n<!-- 13&#45;&gt;17 -->\n<g id=\"edge17\" class=\"edge\">\n<title>13&#45;&gt;17</title>\n<path fill=\"none\" stroke=\"#000000\" d=\"M716.0612,-222.8796C731.8484,-210.8368 749.0479,-197.7167 764.7241,-185.7586\"/>\n<polygon fill=\"#000000\" stroke=\"#000000\" points=\"766.9392,-188.4709 772.7673,-179.623 762.6937,-182.9053 766.9392,-188.4709\"/>\n</g>\n<!-- 15 -->\n<g id=\"node16\" class=\"node\">\n<title>15</title>\n<path fill=\"#39e581\" stroke=\"#000000\" d=\"M635.5,-68C635.5,-68 531.5,-68 531.5,-68 525.5,-68 519.5,-62 519.5,-56 519.5,-56 519.5,-12 519.5,-12 519.5,-6 525.5,0 531.5,0 531.5,0 635.5,0 635.5,0 641.5,0 647.5,-6 647.5,-12 647.5,-12 647.5,-56 647.5,-56 647.5,-62 641.5,-68 635.5,-68\"/>\n<text text-anchor=\"middle\" x=\"583.5\" y=\"-52.8\" font-family=\"Helvetica,sans-Serif\" font-size=\"14.00\" fill=\"#000000\">gini = 0.0</text>\n<text text-anchor=\"middle\" x=\"583.5\" y=\"-37.8\" font-family=\"Helvetica,sans-Serif\" font-size=\"14.00\" fill=\"#000000\">samples = 1</text>\n<text text-anchor=\"middle\" x=\"583.5\" y=\"-22.8\" font-family=\"Helvetica,sans-Serif\" font-size=\"14.00\" fill=\"#000000\">value = [0, 1, 0]</text>\n<text text-anchor=\"middle\" x=\"583.5\" y=\"-7.8\" font-family=\"Helvetica,sans-Serif\" font-size=\"14.00\" fill=\"#000000\">class = versicolor</text>\n</g>\n<!-- 14&#45;&gt;15 -->\n<g id=\"edge15\" class=\"edge\">\n<title>14&#45;&gt;15</title>\n<path fill=\"none\" stroke=\"#000000\" d=\"M628.0622,-103.9815C622.444,-95.1585 616.5012,-85.8258 610.8497,-76.9506\"/>\n<polygon fill=\"#000000\" stroke=\"#000000\" points=\"613.6416,-74.8188 605.3181,-68.2637 607.7371,-78.5787 613.6416,-74.8188\"/>\n</g>\n<!-- 16 -->\n<g id=\"node17\" class=\"node\">\n<title>16</title>\n<path fill=\"#8139e5\" stroke=\"#000000\" d=\"M773,-68C773,-68 678,-68 678,-68 672,-68 666,-62 666,-56 666,-56 666,-12 666,-12 666,-6 672,0 678,0 678,0 773,0 773,0 779,0 785,-6 785,-12 785,-12 785,-56 785,-56 785,-62 779,-68 773,-68\"/>\n<text text-anchor=\"middle\" x=\"725.5\" y=\"-52.8\" font-family=\"Helvetica,sans-Serif\" font-size=\"14.00\" fill=\"#000000\">gini = 0.0</text>\n<text text-anchor=\"middle\" x=\"725.5\" y=\"-37.8\" font-family=\"Helvetica,sans-Serif\" font-size=\"14.00\" fill=\"#000000\">samples = 4</text>\n<text text-anchor=\"middle\" x=\"725.5\" y=\"-22.8\" font-family=\"Helvetica,sans-Serif\" font-size=\"14.00\" fill=\"#000000\">value = [0, 0, 7]</text>\n<text text-anchor=\"middle\" x=\"725.5\" y=\"-7.8\" font-family=\"Helvetica,sans-Serif\" font-size=\"14.00\" fill=\"#000000\">class = virginica</text>\n</g>\n<!-- 14&#45;&gt;16 -->\n<g id=\"edge16\" class=\"edge\">\n<title>14&#45;&gt;16</title>\n<path fill=\"none\" stroke=\"#000000\" d=\"M680.9378,-103.9815C686.556,-95.1585 692.4988,-85.8258 698.1503,-76.9506\"/>\n<polygon fill=\"#000000\" stroke=\"#000000\" points=\"701.2629,-78.5787 703.6819,-68.2637 695.3584,-74.8188 701.2629,-78.5787\"/>\n</g>\n</g>\n</svg>\n"
          },
          "metadata": {},
          "execution_count": 49
        }
      ]
    }
  ]
}